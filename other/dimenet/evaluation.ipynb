{
 "cells": [
  {
   "cell_type": "code",
   "execution_count": 2,
   "metadata": {},
   "outputs": [
    {
     "name": "stderr",
     "output_type": "stream",
     "text": [
      "/home/ge96sur/environments/dimenet/lib/python3.9/site-packages/tqdm/auto.py:21: TqdmWarning: IProgress not found. Please update jupyter and ipywidgets. See https://ipywidgets.readthedocs.io/en/stable/user_install.html\n",
      "  from .autonotebook import tqdm as notebook_tqdm\n"
     ]
    }
   ],
   "source": [
    "import torch\n",
    "import os\n",
    "import dill\n",
    "import sys"
   ]
  },
  {
   "cell_type": "code",
   "execution_count": 1,
   "metadata": {},
   "outputs": [],
   "source": [
    "# os.system('echo $PATH')"
   ]
  },
  {
   "cell_type": "code",
   "execution_count": 11,
   "metadata": {},
   "outputs": [
    {
     "name": "stdout",
     "output_type": "stream",
     "text": [
      "Loaded 5 Data objects\n"
     ]
    }
   ],
   "source": [
    "test_set = []\n",
    "i = 0\n",
    "while True:\n",
    "    try:\n",
    "        data = torch.load(os.getcwd() + f'/data/data_{i}.pt')\n",
    "        test_set.append(data)\n",
    "        i += 1\n",
    "    except FileNotFoundError:\n",
    "        break\n",
    "print(f'Loaded {len(test_set)} Data objects')\n"
   ]
  },
  {
   "cell_type": "code",
   "execution_count": 5,
   "metadata": {},
   "outputs": [],
   "source": [
    "model_path = os.getcwd() + f'/weights/model_10.pth' \n",
    "with open(model_path, 'rb') as f:\n",
    "    model = dill.load(f)\n"
   ]
  },
  {
   "cell_type": "code",
   "execution_count": 12,
   "metadata": {},
   "outputs": [
    {
     "data": {
      "text/plain": [
       "DimeNet(\n",
       "  (rbf): BesselBasisLayer(\n",
       "    (envelope): Envelope()\n",
       "  )\n",
       "  (sbf): SphericalBasisLayer(\n",
       "    (envelope): Envelope()\n",
       "  )\n",
       "  (emb): EmbeddingBlock(\n",
       "    (emb): Embedding(95, 2)\n",
       "    (lin_rbf): Linear(in_features=1, out_features=2, bias=True)\n",
       "    (lin): Linear(in_features=6, out_features=2, bias=True)\n",
       "  )\n",
       "  (output_blocks): ModuleList(\n",
       "    (0): OutputBlock(\n",
       "      (lin_rbf): Linear(in_features=1, out_features=2, bias=False)\n",
       "      (lins): ModuleList(\n",
       "        (0): Linear(in_features=2, out_features=2, bias=True)\n",
       "        (1): Linear(in_features=2, out_features=2, bias=True)\n",
       "        (2): Linear(in_features=2, out_features=2, bias=True)\n",
       "      )\n",
       "      (lin): Linear(in_features=2, out_features=1, bias=False)\n",
       "    )\n",
       "    (1): OutputBlock(\n",
       "      (lin_rbf): Linear(in_features=1, out_features=2, bias=False)\n",
       "      (lins): ModuleList(\n",
       "        (0): Linear(in_features=2, out_features=2, bias=True)\n",
       "        (1): Linear(in_features=2, out_features=2, bias=True)\n",
       "        (2): Linear(in_features=2, out_features=2, bias=True)\n",
       "      )\n",
       "      (lin): Linear(in_features=2, out_features=1, bias=False)\n",
       "    )\n",
       "    (2): OutputBlock(\n",
       "      (lin_rbf): Linear(in_features=1, out_features=2, bias=False)\n",
       "      (lins): ModuleList(\n",
       "        (0): Linear(in_features=2, out_features=2, bias=True)\n",
       "        (1): Linear(in_features=2, out_features=2, bias=True)\n",
       "        (2): Linear(in_features=2, out_features=2, bias=True)\n",
       "      )\n",
       "      (lin): Linear(in_features=2, out_features=1, bias=False)\n",
       "    )\n",
       "  )\n",
       "  (interaction_blocks): ModuleList(\n",
       "    (0): InteractionBlock(\n",
       "      (lin_rbf): Linear(in_features=1, out_features=2, bias=False)\n",
       "      (lin_sbf): Linear(in_features=3, out_features=8, bias=False)\n",
       "      (lin_kj): Linear(in_features=2, out_features=2, bias=True)\n",
       "      (lin_ji): Linear(in_features=2, out_features=2, bias=True)\n",
       "      (layers_before_skip): ModuleList(\n",
       "        (0): ResidualLayer(\n",
       "          (lin1): Linear(in_features=2, out_features=2, bias=True)\n",
       "          (lin2): Linear(in_features=2, out_features=2, bias=True)\n",
       "        )\n",
       "      )\n",
       "      (lin): Linear(in_features=2, out_features=2, bias=True)\n",
       "      (layers_after_skip): ModuleList(\n",
       "        (0): ResidualLayer(\n",
       "          (lin1): Linear(in_features=2, out_features=2, bias=True)\n",
       "          (lin2): Linear(in_features=2, out_features=2, bias=True)\n",
       "        )\n",
       "        (1): ResidualLayer(\n",
       "          (lin1): Linear(in_features=2, out_features=2, bias=True)\n",
       "          (lin2): Linear(in_features=2, out_features=2, bias=True)\n",
       "        )\n",
       "      )\n",
       "    )\n",
       "    (1): InteractionBlock(\n",
       "      (lin_rbf): Linear(in_features=1, out_features=2, bias=False)\n",
       "      (lin_sbf): Linear(in_features=3, out_features=8, bias=False)\n",
       "      (lin_kj): Linear(in_features=2, out_features=2, bias=True)\n",
       "      (lin_ji): Linear(in_features=2, out_features=2, bias=True)\n",
       "      (layers_before_skip): ModuleList(\n",
       "        (0): ResidualLayer(\n",
       "          (lin1): Linear(in_features=2, out_features=2, bias=True)\n",
       "          (lin2): Linear(in_features=2, out_features=2, bias=True)\n",
       "        )\n",
       "      )\n",
       "      (lin): Linear(in_features=2, out_features=2, bias=True)\n",
       "      (layers_after_skip): ModuleList(\n",
       "        (0): ResidualLayer(\n",
       "          (lin1): Linear(in_features=2, out_features=2, bias=True)\n",
       "          (lin2): Linear(in_features=2, out_features=2, bias=True)\n",
       "        )\n",
       "        (1): ResidualLayer(\n",
       "          (lin1): Linear(in_features=2, out_features=2, bias=True)\n",
       "          (lin2): Linear(in_features=2, out_features=2, bias=True)\n",
       "        )\n",
       "      )\n",
       "    )\n",
       "  )\n",
       ")"
      ]
     },
     "execution_count": 12,
     "metadata": {},
     "output_type": "execute_result"
    }
   ],
   "source": []
  }
 ],
 "metadata": {
  "kernelspec": {
   "display_name": "dimenet",
   "language": "python",
   "name": "python3"
  },
  "language_info": {
   "codemirror_mode": {
    "name": "ipython",
    "version": 3
   },
   "file_extension": ".py",
   "mimetype": "text/x-python",
   "name": "python",
   "nbconvert_exporter": "python",
   "pygments_lexer": "ipython3",
   "version": "3.9.15"
  },
  "orig_nbformat": 4,
  "vscode": {
   "interpreter": {
    "hash": "f41f9df61af94f67143146a85bf187903a482f367e85c4ed47d69a31988fb38f"
   }
  }
 },
 "nbformat": 4,
 "nbformat_minor": 2
}
